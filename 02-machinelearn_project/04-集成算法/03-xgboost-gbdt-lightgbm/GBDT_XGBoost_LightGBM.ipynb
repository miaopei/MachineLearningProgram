{
 "cells": [
  {
   "cell_type": "markdown",
   "metadata": {},
   "source": [
    "## GBDT Xgboost LightGBM对比\n"
   ]
  },
  {
   "cell_type": "markdown",
   "metadata": {},
   "source": [
    "# Mnist数据集识别\n",
    "### 使用Sklearn的GBDT\n",
    "\n",
    "[GradientBoostingClassifier](http://scikit-learn.org/stable/modules/generated/sklearn.ensemble.GradientBoostingClassifier.html)\n",
    "\n",
    "[GradientBoostingRegressor](http://scikit-learn.org/stable/modules/generated/sklearn.ensemble.GradientBoostingRegressor.html)"
   ]
  },
  {
   "cell_type": "code",
   "execution_count": 1,
   "metadata": {},
   "outputs": [
    {
     "name": "stdout",
     "output_type": "stream",
     "text": [
      "(5000, 784) (5000,) (1000, 784) (1000,)\n"
     ]
    }
   ],
   "source": [
    "import gzip\n",
    "import pickle as pkl\n",
    "from sklearn.model_selection import train_test_split\n",
    "\n",
    "def load_data(path):\n",
    "    f = gzip.open(path, 'rb')\n",
    "    try:\n",
    "        #Python3\n",
    "        train_set, valid_set, test_set = pkl.load(f, encoding='latin1')\n",
    "    except:\n",
    "        #Python2\n",
    "        train_set, valid_set, test_set = pkl.load(f)\n",
    "    f.close()\n",
    "    return(train_set,valid_set,test_set)\n",
    "\n",
    "path = 'mnist.pkl.gz' \n",
    "train_set,valid_set,test_set = load_data(path)\n",
    "\n",
    "Xtrain,_,ytrain,_ = train_test_split(train_set[0], train_set[1], test_size=0.9)\n",
    "Xtest,_,ytest,_ = train_test_split(test_set[0], test_set[1], test_size=0.9)\n",
    "print(Xtrain.shape, ytrain.shape, Xtest.shape, ytest.shape)"
   ]
  },
  {
   "cell_type": "markdown",
   "metadata": {},
   "source": [
    "参数说明：\n",
    "\n",
    "- **learning_rate**: The learning parameter controls the magnitude of this change in the estimates. (default=0.1)\n",
    "- **n_extimators**: The number of sequential trees to be modeled. (default=100)\n",
    "- **max_depth**: The maximum depth of a tree. (default=3)\n",
    "- **min_samples_split**: Tthe minimum number of samples (or observations) which are required in a node to be considered for splitting. (default=2)\n",
    "- **min_samples_leaf**: The minimum samples (or observations) required in a terminal node or leaf. (default=1)\n",
    "- **min_weight_fraction_leaf**: Similar to min_samples_leaf but defined as a fraction of the total number of observations instead of an integer. (default=0.)\n",
    "- **subsample**: The fraction of observations to be selected for each tree. Selection is done by random sampling. (default=1.0)\n",
    "- **max_features**: The number of features to consider while searching for a best split. These will be randomly selected. (default=None)\n",
    "- **max_leaf_nodes**: The maximum number of terminal nodes or leaves in a tree. (default=None)\n",
    "- **min_impurity_decrease**: A node will be split if this split induces a decrease of the impurity greater than or equal to this value. (default=0.)\n"
   ]
  },
  {
   "cell_type": "code",
   "execution_count": 2,
   "metadata": {},
   "outputs": [
    {
     "name": "stdout",
     "output_type": "stream",
     "text": [
      "The training time = 11.989675521850586\n",
      "Test accuracy = 0.825\n"
     ]
    }
   ],
   "source": [
    "from sklearn.ensemble import GradientBoostingClassifier\n",
    "import numpy as np\n",
    "import time \n",
    "\n",
    "clf = GradientBoostingClassifier(n_estimators=10, \n",
    "                                 learning_rate=0.1, \n",
    "                                 max_depth=3)\n",
    "\n",
    "# start training\n",
    "start_time = time.time()\n",
    "clf.fit(Xtrain, ytrain)\n",
    "end_time = time.time()\n",
    "print('The training time = {}'.format(end_time - start_time))\n",
    "\n",
    "# prediction and evaluation \n",
    "pred = clf.predict(Xtest)\n",
    "accuracy = np.sum(pred == ytest) / pred.shape[0]\n",
    "print('Test accuracy = {}'.format(accuracy))"
   ]
  },
  {
   "cell_type": "markdown",
   "metadata": {},
   "source": [
    "集成算法可以得出特征重要性，说白了就是看各个树使用特征的情况，使用的多当然就重要了,这是分类器告诉我们的。"
   ]
  },
  {
   "cell_type": "code",
   "execution_count": 3,
   "metadata": {},
   "outputs": [
    {
     "name": "stdout",
     "output_type": "stream",
     "text": [
      "0.0249318971528 0.0\n"
     ]
    },
    {
     "data": {
      "image/png": "[encoded data removed]",
      "text/plain": [
       "<matplotlib.figure.Figure at 0x135c8a00b38>"
      ]
     },
     "metadata": {},
     "output_type": "display_data"
    }
   ],
   "source": [
    "%matplotlib inline\n",
    "import matplotlib.pyplot as plt\n",
    "plt.hist(clf.feature_importances_)\n",
    "print(max(clf.feature_importances_), min(clf.feature_importances_))"
   ]
  },
  {
   "cell_type": "markdown",
   "metadata": {},
   "source": [
    "一般情况下，我们还可以筛选一下。 "
   ]
  },
  {
   "cell_type": "code",
   "execution_count": 4,
   "metadata": {},
   "outputs": [
    {
     "data": {
      "image/png": "[encoded data removed]",
      "text/plain": [
       "<matplotlib.figure.Figure at 0x135b8a1f780>"
      ]
     },
     "metadata": {},
     "output_type": "display_data"
    }
   ],
   "source": [
    "from collections import OrderedDict\n",
    "d = {}\n",
    "for i in range(len(clf.feature_importances_)):\n",
    "    if clf.feature_importances_[i] > 0.01:\n",
    "        d[i] = clf.feature_importances_[i]\n",
    "\n",
    "sorted_feature_importances = OrderedDict(sorted(d.items(), key=lambda x:x[1], reverse=True))\n",
    "D = sorted_feature_importances\n",
    "rects = plt.bar(range(len(D)), D.values(), align='center')\n",
    "plt.xticks(range(len(D)), D.keys(),rotation=90)\n",
    "plt.show()"
   ]
  },
  {
   "cell_type": "markdown",
   "metadata": {},
   "source": [
    "由于是像素点，所以看的没那么直观，正常特征看起来其实蛮直接的。"
   ]
  },
  {
   "cell_type": "markdown",
   "metadata": {},
   "source": [
    "## XGBoost\n",
    "\n",
    "加入了更多的剪枝策略和正则项，控制过拟合风险。传统的GBDT用的是CART，Xgboost能支持的分类器更多，也可以是线性的。GBDT只用了一阶导，但是xgboost对损失函数做了二阶的泰勒展开，并且还可以自定义损失函数。\n",
    "\n",
    "\n",
    "\n",
    "<img src=\"https://raw.githubusercontent.com/dmlc/web-data/master/xgboost/model/struct_score.png\" width=\"500\" height=\"500\" />\n",
    "\n",
    " \n"
   ]
  },
  {
   "cell_type": "code",
   "execution_count": 5,
   "metadata": {},
   "outputs": [
    {
     "name": "stdout",
     "output_type": "stream",
     "text": [
      "The training time = 13.496984481811523\n",
      "Test accuracy = 0.821\n"
     ]
    }
   ],
   "source": [
    "import xgboost as xgb\n",
    "import numpy as np\n",
    "import time\n",
    "\n",
    "# read data into Xgboost DMatrix format\n",
    "dtrain = xgb.DMatrix(Xtrain, label=ytrain)\n",
    "dtest = xgb.DMatrix(Xtest, label=ytest)\n",
    "\n",
    "# specify parameters via map\n",
    "params = {\n",
    "    'booster':'gbtree',     #  tree-based models\n",
    "    'objective': 'multi:softmax', \n",
    "    'num_class':10, \n",
    "    'eta': 0.1,             # Same to learning rate\n",
    "    'gamma':0,              # Similar to min_impurity_decrease in GBDT\n",
    "    'alpha': 0,             # L1 regularization term on weight (analogous to Lasso regression)\n",
    "    'lambda': 2,            # L2 regularization term on weights (analogous to Ridge regression)\n",
    "    'max_depth': 3,         # Same as the max_depth of GBDT\n",
    "    'subsample': 1,         # Same as the subsample of GBDT\n",
    "    'colsample_bytree': 1,  # Similar to max_features in GBM\n",
    "    'min_child_weight': 1,  # minimum sum of instance weight (Hessian) needed in a child\n",
    "    'nthread':1,            # default to maximum number of threads available if not set\n",
    "}\n",
    "num_round = 10\n",
    "\n",
    "# start training\n",
    "start_time = time.time()\n",
    "bst = xgb.train(params, dtrain, num_round)\n",
    "end_time = time.time()\n",
    "print('The training time = {}'.format(end_time - start_time))\n",
    "\n",
    "# get prediction and evaluate\n",
    "ypred = bst.predict(dtest)\n",
    "accuracy = np.sum(ypred == ytest) / ypred.shape[0]\n",
    "print('Test accuracy = {}'.format(accuracy))\n"
   ]
  },
  {
   "cell_type": "markdown",
   "metadata": {
    "collapsed": true
   },
   "source": [
    " [Xgboost参数](https://github.com/dmlc/xgboost/blob/master/doc/parameter.md)."
   ]
  },
  {
   "cell_type": "markdown",
   "metadata": {},
   "source": [
    "## LightGBM"
   ]
  },
  {
   "cell_type": "markdown",
   "metadata": {},
   "source": [
    "放到最后肯定有一堆优点的：\n",
    "\n",
    "- 更快的训练效率\n",
    "\n",
    "- 低内存使用\n",
    "\n",
    "- 更好的准确率\n",
    "\n",
    "- 支持并行学习\n",
    "\n",
    "- 可处理大规模数据\n",
    "\n",
    "它摒弃了现在大部分GBDT使用的按层生长（level-wise）的决策树生长策略，使用带有深度限制的按叶子生长（leaf-wise）的策略。level-wise过一次数据可以同时分裂同一层的叶子，容易进行多线程优化，也好控制模型复杂度，不容易过拟合。但实际上level-wise是一种低效的算法，因为它不加区分的对待同一层的叶子，带来了很多没必要的开销，因为实际上很多叶子的分裂增益较低，没必要进行搜索和分裂。 \n",
    "\n",
    "Leaf-wise则是一种更为高效的策略，每次从当前所有叶子中，找到分裂增益最大的一个叶子，然后分裂，如此循环。因此同Level-wise相比，在分裂次数相同的情况下，Leaf-wise可以降低更多的误差，得到更好的精度。Leaf-wise的缺点是可能会长出比较深的决策树，产生过拟合。因此LightGBM在Leaf-wise之上增加了一个最大深度的限制，在保证高效率的同时防止过拟合。 \n",
    "\n",
    "<img src=\"https://lightgbm.readthedocs.io/en/latest/_images/level-wise.png\" width=\"400\" height=\"400\" />\n",
    "<img src=\"https://lightgbm.readthedocs.io/en/latest/_images/leaf-wise.png\" width=\"500\" height=\"500\" />\n",
    "\n",
    "\n",
    "\n",
    " [安装指引](https://github.com/Microsoft/LightGBM/tree/master/python-package)\n"
   ]
  },
  {
   "cell_type": "code",
   "execution_count": 8,
   "metadata": {},
   "outputs": [
    {
     "name": "stdout",
     "output_type": "stream",
     "text": [
      "The training time = 4.891559839248657\n",
      "Test accuracy = 0.902\n"
     ]
    }
   ],
   "source": [
    "import lightgbm as lgb\n",
    "train_data = lgb.Dataset(Xtrain, label=ytrain)\n",
    "test_data = lgb.Dataset(Xtest, label=ytest)\n",
    "\n",
    "# specify parameters via map\n",
    "params = {\n",
    "    'num_leaves':31,                # Same to max_leaf_nodes in GBDT, but GBDT's default value is None\n",
    "    'max_depth': -1,                # Same to max_depth of xgboost\n",
    "    'tree_learner': 'serial', \n",
    "    'application':'multiclass',     # Same to objective of xgboost\n",
    "    'num_class':10,                 # Same to num_class of xgboost\n",
    "    'learning_rate': 0.1,           # Same to eta of xgboost\n",
    "    'min_split_gain': 0,            # Same to gamma of xgboost\n",
    "    'lambda_l1': 0,                 # Same to alpha of xgboost\n",
    "    'lambda_l2': 0,                 # Same to lambda of xgboost\n",
    "    'min_data_in_leaf': 20,         # Same to min_samples_leaf of GBDT\n",
    "    'bagging_fraction': 1.0,        # Same to subsample of xgboost\n",
    "    'bagging_freq': 0,\n",
    "    'bagging_seed': 0,\n",
    "    'feature_fraction': 1.0,         # Same to colsample_bytree of xgboost\n",
    "    'feature_fraction_seed': 2,\n",
    "    'min_sum_hessian_in_leaf': 1e-3, # Same to min_child_weight of xgboost\n",
    "    'num_threads': 1\n",
    "}\n",
    "num_round = 10\n",
    "\n",
    "# start training\n",
    "start_time = time.time()\n",
    "bst = lgb.train(params, train_data, num_round)\n",
    "end_time = time.time()\n",
    "print('The training time = {}'.format(end_time - start_time))\n",
    "\n",
    "# get prediction and evaluate\n",
    "ypred_onehot = bst.predict(Xtest)\n",
    "ypred = []\n",
    "for i in range(len(ypred_onehot)):\n",
    "    ypred.append(ypred_onehot[i].argmax())\n",
    "\n",
    "accuracy = np.sum(ypred == ytest) / len(ypred)\n",
    "print('Test accuracy = {}'.format(accuracy))"
   ]
  },
  {
   "cell_type": "markdown",
   "metadata": {},
   "source": [
    " [参数解释](https://github.com/Microsoft/LightGBM/blob/master/docs/Parameters.rst) "
   ]
  },
  {
   "cell_type": "markdown",
   "metadata": {},
   "source": [
    "## 结果对比\n",
    " \n",
    "\n",
    "|          | time(s) | accuracy(%) |\n",
    "|----------|---------|-------------|\n",
    "| GBDT     | 11.98   | 0.825       |\n",
    "| XGBoost  | 13.49   | 0.821       |\n",
    "| LightGBM | 4.89    | 0.902       |\n",
    "\n",
    "\n",
    "\n",
    "http://lightgbm.apachecn.org/cn/latest/Parameters-Tuning.html"
   ]
  },
  {
   "cell_type": "code",
   "execution_count": null,
   "metadata": {
    "collapsed": true
   },
   "outputs": [],
   "source": []
  }
 ],
 "metadata": {
  "kernelspec": {
   "display_name": "Python 3",
   "language": "python",
   "name": "python3"
  },
  "language_info": {
   "codemirror_mode": {
    "name": "ipython",
    "version": 3
   },
   "file_extension": ".py",
   "mimetype": "text/x-python",
   "name": "python",
   "nbconvert_exporter": "python",
   "pygments_lexer": "ipython3",
   "version": "3.6.3"
  }
 },
 "nbformat": 4,
 "nbformat_minor": 2
}
