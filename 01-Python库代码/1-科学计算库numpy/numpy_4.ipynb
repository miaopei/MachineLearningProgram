{
 "cells": [
  {
   "cell_type": "code",
   "execution_count": 1,
   "metadata": {
    "collapsed": false
   },
   "outputs": [
    {
     "name": "stdout",
     "output_type": "stream",
     "text": [
      "[0 1 2]\n",
      "[ 1.          2.71828183  7.3890561 ]\n",
      "[ 0.          1.          1.41421356]\n"
     ]
    }
   ],
   "source": [
    "import numpy as np\n",
    "B = np.arange(3)\n",
    "print(B)\n",
    "print(np.exp(B))\n",
    "print(np.sqrt(B))"
   ]
  },
  {
   "cell_type": "code",
   "execution_count": 5,
   "metadata": {
    "collapsed": false
   },
   "outputs": [
    {
     "name": "stdout",
     "output_type": "stream",
     "text": [
      "[[ 9.  6.  5.  6.]\n",
      " [ 0.  6.  1.  5.]\n",
      " [ 7.  5.  5.  6.]]\n",
      "--------------\n",
      "[ 9.  6.  5.  6.  0.  6.  1.  5.  7.  5.  5.  6.]\n",
      "--------------\n",
      "[[ 9.  6.]\n",
      " [ 5.  6.]\n",
      " [ 0.  6.]\n",
      " [ 1.  5.]\n",
      " [ 7.  5.]\n",
      " [ 5.  6.]]\n",
      "--------------\n",
      "[[ 9.  5.  0.  1.  7.  5.]\n",
      " [ 6.  6.  6.  5.  5.  6.]]\n"
     ]
    }
   ],
   "source": [
    "#Return the floor of the input\n",
    "a = np.floor(10*np.random.random((3,4)))\n",
    "print(a)\n",
    "print('--------------')\n",
    "#a.shape\n",
    "## flatten the array\n",
    "print(a.ravel())\n",
    "print('--------------')\n",
    "a.shape = (6, 2)\n",
    "print(a) \n",
    "print('--------------')\n",
    "print(a.T)\n",
    "\n",
    "#If a dimension is given as -1 in a reshaping operation, the other dimensions are automatically calculated:\n",
    "#a.reshape(3,-1)   # -1 根据数据自动计算要生成多少列"
   ]
  },
  {
   "cell_type": "code",
   "execution_count": 32,
   "metadata": {
    "collapsed": false
   },
   "outputs": [
    {
     "name": "stdout",
     "output_type": "stream",
     "text": [
      "[[ 5.  6.]\n",
      " [ 1.  5.]]\n",
      "---\n",
      "[[ 8.  6.]\n",
      " [ 9.  0.]]\n",
      "---\n",
      "[[ 5.  6.  8.  6.]\n",
      " [ 1.  5.  9.  0.]]\n"
     ]
    }
   ],
   "source": [
    "a = np.floor(10*np.random.random((2,2)))\n",
    "b = np.floor(10*np.random.random((2,2)))\n",
    "print a\n",
    "print '---'\n",
    "print b\n",
    "print '---'\n",
    "print np.hstack((a,b))\n",
    "#np.vstack((a,b))"
   ]
  },
  {
   "cell_type": "code",
   "execution_count": 6,
   "metadata": {
    "collapsed": false
   },
   "outputs": [
    {
     "name": "stdout",
     "output_type": "stream",
     "text": [
      "[[ 9.  1.  7.  9.  0.  4.  3.  6.  9.  6.  2.  7.]\n",
      " [ 1.  7.  9.  7.  0.  4.  9.  1.  1.  8.  6.  5.]]\n",
      "------\n",
      "[array([[ 9.,  1.,  7.,  9.],\n",
      "       [ 1.,  7.,  9.,  7.]]), array([[ 0.,  4.,  3.,  6.],\n",
      "       [ 0.,  4.,  9.,  1.]]), array([[ 9.,  6.,  2.,  7.],\n",
      "       [ 1.,  8.,  6.,  5.]])]\n",
      "------\n",
      "[array([[ 9.,  1.,  7.],\n",
      "       [ 1.,  7.,  9.]]), array([[ 9.],\n",
      "       [ 7.]]), array([[ 0.,  4.,  3.,  6.,  9.,  6.,  2.,  7.],\n",
      "       [ 0.,  4.,  9.,  1.,  1.,  8.,  6.,  5.]])]\n",
      "------\n",
      "[[ 9.  2.]\n",
      " [ 6.  9.]\n",
      " [ 5.  0.]\n",
      " [ 5.  6.]\n",
      " [ 7.  2.]\n",
      " [ 4.  6.]\n",
      " [ 9.  0.]\n",
      " [ 7.  4.]\n",
      " [ 3.  1.]\n",
      " [ 3.  8.]\n",
      " [ 0.  3.]\n",
      " [ 4.  9.]]\n"
     ]
    },
    {
     "data": {
      "text/plain": [
       "[array([[ 9.,  2.],\n",
       "        [ 6.,  9.],\n",
       "        [ 5.,  0.],\n",
       "        [ 5.,  6.]]), array([[ 7.,  2.],\n",
       "        [ 4.,  6.],\n",
       "        [ 9.,  0.],\n",
       "        [ 7.,  4.]]), array([[ 3.,  1.],\n",
       "        [ 3.,  8.],\n",
       "        [ 0.,  3.],\n",
       "        [ 4.,  9.]])]"
      ]
     },
     "execution_count": 6,
     "metadata": {},
     "output_type": "execute_result"
    }
   ],
   "source": [
    "a = np.floor(10*np.random.random((2,12)))\n",
    "print(a)\n",
    "print('------')\n",
    "print(np.hsplit(a,3))\n",
    "print('------')\n",
    "print(np.hsplit(a,(3,4)))   # Split a after the third and the fourth column\n",
    "a = np.floor(10*np.random.random((12,2)))\n",
    "print('------')\n",
    "print(a)\n",
    "np.vsplit(a,3)"
   ]
  },
  {
   "cell_type": "code",
   "execution_count": 8,
   "metadata": {
    "collapsed": false
   },
   "outputs": [
    {
     "name": "stdout",
     "output_type": "stream",
     "text": [
      "True\n",
      "(3, 4)\n",
      "140034330576656\n",
      "140034330576656\n"
     ]
    }
   ],
   "source": [
    "#Simple assignments make no copy of array objects or of their data.\n",
    "a = np.arange(12)\n",
    "b = a\n",
    "# a and b are two names for the same ndarray object\n",
    "print(b is a)\n",
    "b.shape = 3,4\n",
    "print(a.shape)\n",
    "print(id(a))\n",
    "print(id(b))"
   ]
  },
  {
   "cell_type": "code",
   "execution_count": 9,
   "metadata": {
    "collapsed": false
   },
   "outputs": [
    {
     "name": "stdout",
     "output_type": "stream",
     "text": [
      "False\n",
      "-------\n",
      "(3, 4)\n",
      "-------\n",
      "[[   0    1    2    3]\n",
      " [1234    5    6    7]\n",
      " [   8    9   10   11]]\n",
      "-------\n",
      "140034330576656\n",
      "140034330614560\n"
     ]
    }
   ],
   "source": [
    "#The view method creates a new array object that looks at the same data.\n",
    "c = a.view()\n",
    "print(c is a)\n",
    "print('-------')\n",
    "c.shape = 2,6\n",
    "print(a.shape)\n",
    "print('-------')\n",
    "c[0,4] = 1234\n",
    "print(a)\n",
    "print('-------')\n",
    "print(id(a))\n",
    "print(id(c))"
   ]
  },
  {
   "cell_type": "code",
   "execution_count": 10,
   "metadata": {
    "collapsed": false
   },
   "outputs": [
    {
     "name": "stdout",
     "output_type": "stream",
     "text": [
      "False\n",
      "[[9999    1    2    3]\n",
      " [1234    5    6    7]\n",
      " [   8    9   10   11]]\n",
      "[[   0    1    2    3]\n",
      " [1234    5    6    7]\n",
      " [   8    9   10   11]]\n"
     ]
    }
   ],
   "source": [
    "#The copy method makes a complete copy of the array and its data.\n",
    "d = a.copy() \n",
    "print(d is a)\n",
    "d[0,0] = 9999\n",
    "print(d) \n",
    "print(a)"
   ]
  },
  {
   "cell_type": "code",
   "execution_count": null,
   "metadata": {
    "collapsed": true
   },
   "outputs": [],
   "source": []
  }
 ],
 "metadata": {
  "kernelspec": {
   "display_name": "Python 3",
   "language": "python",
   "name": "python3"
  },
  "language_info": {
   "codemirror_mode": {
    "name": "ipython",
    "version": 3
   },
   "file_extension": ".py",
   "mimetype": "text/x-python",
   "name": "python",
   "nbconvert_exporter": "python",
   "pygments_lexer": "ipython3",
   "version": "3.5.4"
  }
 },
 "nbformat": 4,
 "nbformat_minor": 1
}
