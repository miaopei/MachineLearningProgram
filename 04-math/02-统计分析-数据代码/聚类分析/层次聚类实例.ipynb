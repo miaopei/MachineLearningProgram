{
 "cells": [
  {
   "cell_type": "markdown",
   "metadata": {},
   "source": [
    "## 层次聚类"
   ]
  },
  {
   "cell_type": "code",
   "execution_count": 43,
   "metadata": {},
   "outputs": [
    {
     "data": {
      "text/html": [
       "<div>\n",
       "<style>\n",
       "    .dataframe thead tr:only-child th {\n",
       "        text-align: right;\n",
       "    }\n",
       "\n",
       "    .dataframe thead th {\n",
       "        text-align: left;\n",
       "    }\n",
       "\n",
       "    .dataframe tbody tr th {\n",
       "        vertical-align: top;\n",
       "    }\n",
       "</style>\n",
       "<table border=\"1\" class=\"dataframe\">\n",
       "  <thead>\n",
       "    <tr style=\"text-align: right;\">\n",
       "      <th></th>\n",
       "      <th>area</th>\n",
       "      <th>perimeter</th>\n",
       "      <th>compactness</th>\n",
       "      <th>length</th>\n",
       "      <th>width</th>\n",
       "      <th>asymmetry_coefficient</th>\n",
       "      <th>groove_length</th>\n",
       "      <th>grain_variety</th>\n",
       "    </tr>\n",
       "  </thead>\n",
       "  <tbody>\n",
       "    <tr>\n",
       "      <th>0</th>\n",
       "      <td>14.88</td>\n",
       "      <td>14.57</td>\n",
       "      <td>0.8811</td>\n",
       "      <td>5.554</td>\n",
       "      <td>3.333</td>\n",
       "      <td>1.018</td>\n",
       "      <td>4.956</td>\n",
       "      <td>Kama wheat</td>\n",
       "    </tr>\n",
       "    <tr>\n",
       "      <th>1</th>\n",
       "      <td>14.69</td>\n",
       "      <td>14.49</td>\n",
       "      <td>0.8799</td>\n",
       "      <td>5.563</td>\n",
       "      <td>3.259</td>\n",
       "      <td>3.586</td>\n",
       "      <td>5.219</td>\n",
       "      <td>Kama wheat</td>\n",
       "    </tr>\n",
       "    <tr>\n",
       "      <th>2</th>\n",
       "      <td>14.03</td>\n",
       "      <td>14.16</td>\n",
       "      <td>0.8796</td>\n",
       "      <td>5.438</td>\n",
       "      <td>3.201</td>\n",
       "      <td>1.717</td>\n",
       "      <td>5.001</td>\n",
       "      <td>Kama wheat</td>\n",
       "    </tr>\n",
       "    <tr>\n",
       "      <th>3</th>\n",
       "      <td>13.99</td>\n",
       "      <td>13.83</td>\n",
       "      <td>0.9183</td>\n",
       "      <td>5.119</td>\n",
       "      <td>3.383</td>\n",
       "      <td>5.234</td>\n",
       "      <td>4.781</td>\n",
       "      <td>Kama wheat</td>\n",
       "    </tr>\n",
       "    <tr>\n",
       "      <th>4</th>\n",
       "      <td>14.11</td>\n",
       "      <td>14.26</td>\n",
       "      <td>0.8722</td>\n",
       "      <td>5.520</td>\n",
       "      <td>3.168</td>\n",
       "      <td>2.688</td>\n",
       "      <td>5.219</td>\n",
       "      <td>Kama wheat</td>\n",
       "    </tr>\n",
       "  </tbody>\n",
       "</table>\n",
       "</div>"
      ],
      "text/plain": [
       "    area  perimeter  compactness  length  width  asymmetry_coefficient  \\\n",
       "0  14.88      14.57       0.8811   5.554  3.333                  1.018   \n",
       "1  14.69      14.49       0.8799   5.563  3.259                  3.586   \n",
       "2  14.03      14.16       0.8796   5.438  3.201                  1.717   \n",
       "3  13.99      13.83       0.9183   5.119  3.383                  5.234   \n",
       "4  14.11      14.26       0.8722   5.520  3.168                  2.688   \n",
       "\n",
       "   groove_length grain_variety  \n",
       "0          4.956    Kama wheat  \n",
       "1          5.219    Kama wheat  \n",
       "2          5.001    Kama wheat  \n",
       "3          4.781    Kama wheat  \n",
       "4          5.219    Kama wheat  "
      ]
     },
     "execution_count": 43,
     "metadata": {},
     "output_type": "execute_result"
    }
   ],
   "source": [
    "import pandas as pd\n",
    "\n",
    "seeds_df = pd.read_csv('./datasets/seeds-less-rows.csv')\n",
    "seeds_df.head()"
   ]
  },
  {
   "cell_type": "code",
   "execution_count": 44,
   "metadata": {},
   "outputs": [
    {
     "data": {
      "text/plain": [
       "Canadian wheat    14\n",
       "Rosa wheat        14\n",
       "Kama wheat        14\n",
       "Name: grain_variety, dtype: int64"
      ]
     },
     "execution_count": 44,
     "metadata": {},
     "output_type": "execute_result"
    }
   ],
   "source": [
    "seeds_df.grain_variety.value_counts()  "
   ]
  },
  {
   "cell_type": "code",
   "execution_count": 45,
   "metadata": {},
   "outputs": [],
   "source": [
    "varieties = list(seeds_df.pop('grain_variety'))\n",
    "\n",
    "samples = seeds_df.values"
   ]
  },
  {
   "cell_type": "code",
   "execution_count": 46,
   "metadata": {},
   "outputs": [
    {
     "data": {
      "text/plain": [
       "array([[ 14.88  ,  14.57  ,   0.8811,   5.554 ,   3.333 ,   1.018 ,   4.956 ],\n",
       "       [ 14.69  ,  14.49  ,   0.8799,   5.563 ,   3.259 ,   3.586 ,   5.219 ],\n",
       "       [ 14.03  ,  14.16  ,   0.8796,   5.438 ,   3.201 ,   1.717 ,   5.001 ],\n",
       "       [ 13.99  ,  13.83  ,   0.9183,   5.119 ,   3.383 ,   5.234 ,   4.781 ],\n",
       "       [ 14.11  ,  14.26  ,   0.8722,   5.52  ,   3.168 ,   2.688 ,   5.219 ],\n",
       "       [ 13.02  ,  13.76  ,   0.8641,   5.395 ,   3.026 ,   3.373 ,   4.825 ],\n",
       "       [ 15.49  ,  14.94  ,   0.8724,   5.757 ,   3.371 ,   3.412 ,   5.228 ],\n",
       "       [ 16.2   ,  15.27  ,   0.8734,   5.826 ,   3.464 ,   2.823 ,   5.527 ],\n",
       "       [ 13.5   ,  13.85  ,   0.8852,   5.351 ,   3.158 ,   2.249 ,   5.176 ],\n",
       "       [ 15.36  ,  14.76  ,   0.8861,   5.701 ,   3.393 ,   1.367 ,   5.132 ],\n",
       "       [ 15.78  ,  14.91  ,   0.8923,   5.674 ,   3.434 ,   5.593 ,   5.136 ],\n",
       "       [ 14.46  ,  14.35  ,   0.8818,   5.388 ,   3.377 ,   2.802 ,   5.044 ],\n",
       "       [ 11.23  ,  12.63  ,   0.884 ,   4.902 ,   2.879 ,   2.269 ,   4.703 ],\n",
       "       [ 14.34  ,  14.37  ,   0.8726,   5.63  ,   3.19  ,   1.313 ,   5.15  ],\n",
       "       [ 16.84  ,  15.67  ,   0.8623,   5.998 ,   3.484 ,   4.675 ,   5.877 ],\n",
       "       [ 17.32  ,  15.91  ,   0.8599,   6.064 ,   3.403 ,   3.824 ,   5.922 ],\n",
       "       [ 18.72  ,  16.19  ,   0.8977,   6.006 ,   3.857 ,   5.324 ,   5.879 ],\n",
       "       [ 18.88  ,  16.26  ,   0.8969,   6.084 ,   3.764 ,   1.649 ,   6.109 ],\n",
       "       [ 18.76  ,  16.2   ,   0.8984,   6.172 ,   3.796 ,   3.12  ,   6.053 ],\n",
       "       [ 19.31  ,  16.59  ,   0.8815,   6.341 ,   3.81  ,   3.477 ,   6.238 ],\n",
       "       [ 17.99  ,  15.86  ,   0.8992,   5.89  ,   3.694 ,   2.068 ,   5.837 ],\n",
       "       [ 18.85  ,  16.17  ,   0.9056,   6.152 ,   3.806 ,   2.843 ,   6.2   ],\n",
       "       [ 19.38  ,  16.72  ,   0.8716,   6.303 ,   3.791 ,   3.678 ,   5.965 ],\n",
       "       [ 18.96  ,  16.2   ,   0.9077,   6.051 ,   3.897 ,   4.334 ,   5.75  ],\n",
       "       [ 18.14  ,  16.12  ,   0.8772,   6.059 ,   3.563 ,   3.619 ,   6.011 ],\n",
       "       [ 18.65  ,  16.41  ,   0.8698,   6.285 ,   3.594 ,   4.391 ,   6.102 ],\n",
       "       [ 18.94  ,  16.32  ,   0.8942,   6.144 ,   3.825 ,   2.908 ,   5.949 ],\n",
       "       [ 17.36  ,  15.76  ,   0.8785,   6.145 ,   3.574 ,   3.526 ,   5.971 ],\n",
       "       [ 13.32  ,  13.94  ,   0.8613,   5.541 ,   3.073 ,   7.035 ,   5.44  ],\n",
       "       [ 11.43  ,  13.13  ,   0.8335,   5.176 ,   2.719 ,   2.221 ,   5.132 ],\n",
       "       [ 12.01  ,  13.52  ,   0.8249,   5.405 ,   2.776 ,   6.992 ,   5.27  ],\n",
       "       [ 11.34  ,  12.87  ,   0.8596,   5.053 ,   2.849 ,   3.347 ,   5.003 ],\n",
       "       [ 12.02  ,  13.33  ,   0.8503,   5.35  ,   2.81  ,   4.271 ,   5.308 ],\n",
       "       [ 12.44  ,  13.59  ,   0.8462,   5.319 ,   2.897 ,   4.924 ,   5.27  ],\n",
       "       [ 11.55  ,  13.1   ,   0.8455,   5.167 ,   2.845 ,   6.715 ,   4.956 ],\n",
       "       [ 11.26  ,  13.01  ,   0.8355,   5.186 ,   2.71  ,   5.335 ,   5.092 ],\n",
       "       [ 12.46  ,  13.41  ,   0.8706,   5.236 ,   3.017 ,   4.987 ,   5.147 ],\n",
       "       [ 11.81  ,  13.45  ,   0.8198,   5.413 ,   2.716 ,   4.898 ,   5.352 ],\n",
       "       [ 11.27  ,  12.86  ,   0.8563,   5.091 ,   2.804 ,   3.985 ,   5.001 ],\n",
       "       [ 12.79  ,  13.53  ,   0.8786,   5.224 ,   3.054 ,   5.483 ,   4.958 ],\n",
       "       [ 12.67  ,  13.32  ,   0.8977,   4.984 ,   3.135 ,   2.3   ,   4.745 ],\n",
       "       [ 11.23  ,  12.88  ,   0.8511,   5.14  ,   2.795 ,   4.325 ,   5.003 ]])"
      ]
     },
     "execution_count": 46,
     "metadata": {},
     "output_type": "execute_result"
    }
   ],
   "source": [
    "samples"
   ]
  },
  {
   "cell_type": "code",
   "execution_count": 38,
   "metadata": {
    "collapsed": true
   },
   "outputs": [],
   "source": [
    "#距离计算的 还有树状图\n",
    "from scipy.cluster.hierarchy import linkage, dendrogram\n",
    "import matplotlib.pyplot as plt"
   ]
  },
  {
   "cell_type": "code",
   "execution_count": 39,
   "metadata": {
    "collapsed": true
   },
   "outputs": [],
   "source": [
    "#进行层次聚类\n",
    "mergings = linkage(samples, method='complete')"
   ]
  },
  {
   "cell_type": "code",
   "execution_count": 40,
   "metadata": {},
   "outputs": [
    {
     "data": {
      "image/png": "[encoded data removed]",
      "text/plain": [
       "<matplotlib.figure.Figure at 0x218af015cc0>"
      ]
     },
     "metadata": {},
     "output_type": "display_data"
    }
   ],
   "source": [
    "#树状图结果\n",
    "fig = plt.figure(figsize=(10,6))\n",
    "dendrogram(mergings,\n",
    "           labels=varieties,\n",
    "           leaf_rotation=90,\n",
    "           leaf_font_size=6,\n",
    ")\n",
    "plt.show()"
   ]
  },
  {
   "cell_type": "code",
   "execution_count": 42,
   "metadata": {},
   "outputs": [
    {
     "data": {
      "text/html": [
       "<div>\n",
       "<style>\n",
       "    .dataframe thead tr:only-child th {\n",
       "        text-align: right;\n",
       "    }\n",
       "\n",
       "    .dataframe thead th {\n",
       "        text-align: left;\n",
       "    }\n",
       "\n",
       "    .dataframe tbody tr th {\n",
       "        vertical-align: top;\n",
       "    }\n",
       "</style>\n",
       "<table border=\"1\" class=\"dataframe\">\n",
       "  <thead>\n",
       "    <tr style=\"text-align: right;\">\n",
       "      <th>varieties</th>\n",
       "      <th>Canadian wheat</th>\n",
       "      <th>Kama wheat</th>\n",
       "      <th>Rosa wheat</th>\n",
       "    </tr>\n",
       "    <tr>\n",
       "      <th>labels</th>\n",
       "      <th></th>\n",
       "      <th></th>\n",
       "      <th></th>\n",
       "    </tr>\n",
       "  </thead>\n",
       "  <tbody>\n",
       "    <tr>\n",
       "      <th>1</th>\n",
       "      <td>14</td>\n",
       "      <td>3</td>\n",
       "      <td>0</td>\n",
       "    </tr>\n",
       "    <tr>\n",
       "      <th>2</th>\n",
       "      <td>0</td>\n",
       "      <td>0</td>\n",
       "      <td>14</td>\n",
       "    </tr>\n",
       "    <tr>\n",
       "      <th>3</th>\n",
       "      <td>0</td>\n",
       "      <td>11</td>\n",
       "      <td>0</td>\n",
       "    </tr>\n",
       "  </tbody>\n",
       "</table>\n",
       "</div>"
      ],
      "text/plain": [
       "varieties  Canadian wheat  Kama wheat  Rosa wheat\n",
       "labels                                           \n",
       "1                      14           3           0\n",
       "2                       0           0          14\n",
       "3                       0          11           0"
      ]
     },
     "execution_count": 42,
     "metadata": {},
     "output_type": "execute_result"
    }
   ],
   "source": [
    "#得到标签结果\n",
    "#maximum height自己指定\n",
    "from scipy.cluster.hierarchy import fcluster\n",
    "labels = fcluster(mergings, 6, criterion='distance')\n",
    "\n",
    "df = pd.DataFrame({'labels': labels, 'varieties': varieties})\n",
    "ct = pd.crosstab(df['labels'], df['varieties'])\n",
    "ct"
   ]
  },
  {
   "cell_type": "markdown",
   "metadata": {},
   "source": [
    "#### 不同距离的选择会产生不同的结果"
   ]
  },
  {
   "cell_type": "code",
   "execution_count": 47,
   "metadata": {},
   "outputs": [
    {
     "data": {
      "text/html": [
       "<div>\n",
       "<style>\n",
       "    .dataframe thead tr:only-child th {\n",
       "        text-align: right;\n",
       "    }\n",
       "\n",
       "    .dataframe thead th {\n",
       "        text-align: left;\n",
       "    }\n",
       "\n",
       "    .dataframe tbody tr th {\n",
       "        vertical-align: top;\n",
       "    }\n",
       "</style>\n",
       "<table border=\"1\" class=\"dataframe\">\n",
       "  <thead>\n",
       "    <tr style=\"text-align: right;\">\n",
       "      <th></th>\n",
       "      <th>Armenia</th>\n",
       "      <th>Australia</th>\n",
       "      <th>Austria</th>\n",
       "      <th>Azerbaijan</th>\n",
       "      <th>Belgium</th>\n",
       "      <th>Bulgaria</th>\n",
       "      <th>Croatia</th>\n",
       "      <th>Cyprus</th>\n",
       "      <th>Czech Republic</th>\n",
       "      <th>France</th>\n",
       "      <th>...</th>\n",
       "      <th>Lithuania</th>\n",
       "      <th>Malta</th>\n",
       "      <th>Poland</th>\n",
       "      <th>Russia</th>\n",
       "      <th>Serbia</th>\n",
       "      <th>Spain</th>\n",
       "      <th>Sweden</th>\n",
       "      <th>The Netherlands</th>\n",
       "      <th>Ukraine</th>\n",
       "      <th>United Kingdom</th>\n",
       "    </tr>\n",
       "    <tr>\n",
       "      <th>From country</th>\n",
       "      <th></th>\n",
       "      <th></th>\n",
       "      <th></th>\n",
       "      <th></th>\n",
       "      <th></th>\n",
       "      <th></th>\n",
       "      <th></th>\n",
       "      <th></th>\n",
       "      <th></th>\n",
       "      <th></th>\n",
       "      <th></th>\n",
       "      <th></th>\n",
       "      <th></th>\n",
       "      <th></th>\n",
       "      <th></th>\n",
       "      <th></th>\n",
       "      <th></th>\n",
       "      <th></th>\n",
       "      <th></th>\n",
       "      <th></th>\n",
       "      <th></th>\n",
       "    </tr>\n",
       "  </thead>\n",
       "  <tbody>\n",
       "    <tr>\n",
       "      <th>Albania</th>\n",
       "      <td>2.0</td>\n",
       "      <td>12.0</td>\n",
       "      <td>0.0</td>\n",
       "      <td>0.0</td>\n",
       "      <td>0.0</td>\n",
       "      <td>8.0</td>\n",
       "      <td>0.0</td>\n",
       "      <td>0.0</td>\n",
       "      <td>0.0</td>\n",
       "      <td>0.0</td>\n",
       "      <td>...</td>\n",
       "      <td>4.0</td>\n",
       "      <td>0.0</td>\n",
       "      <td>5.0</td>\n",
       "      <td>7.0</td>\n",
       "      <td>0.0</td>\n",
       "      <td>0.0</td>\n",
       "      <td>3.0</td>\n",
       "      <td>0.0</td>\n",
       "      <td>6.0</td>\n",
       "      <td>0.0</td>\n",
       "    </tr>\n",
       "    <tr>\n",
       "      <th>Armenia</th>\n",
       "      <td>NaN</td>\n",
       "      <td>0.0</td>\n",
       "      <td>4.0</td>\n",
       "      <td>0.0</td>\n",
       "      <td>0.0</td>\n",
       "      <td>0.0</td>\n",
       "      <td>0.0</td>\n",
       "      <td>6.0</td>\n",
       "      <td>0.0</td>\n",
       "      <td>7.0</td>\n",
       "      <td>...</td>\n",
       "      <td>0.0</td>\n",
       "      <td>5.0</td>\n",
       "      <td>1.0</td>\n",
       "      <td>12.0</td>\n",
       "      <td>0.0</td>\n",
       "      <td>0.0</td>\n",
       "      <td>2.0</td>\n",
       "      <td>0.0</td>\n",
       "      <td>10.0</td>\n",
       "      <td>0.0</td>\n",
       "    </tr>\n",
       "    <tr>\n",
       "      <th>Australia</th>\n",
       "      <td>0.0</td>\n",
       "      <td>NaN</td>\n",
       "      <td>3.0</td>\n",
       "      <td>0.0</td>\n",
       "      <td>12.0</td>\n",
       "      <td>10.0</td>\n",
       "      <td>0.0</td>\n",
       "      <td>0.0</td>\n",
       "      <td>0.0</td>\n",
       "      <td>7.0</td>\n",
       "      <td>...</td>\n",
       "      <td>1.0</td>\n",
       "      <td>6.0</td>\n",
       "      <td>0.0</td>\n",
       "      <td>5.0</td>\n",
       "      <td>0.0</td>\n",
       "      <td>2.0</td>\n",
       "      <td>0.0</td>\n",
       "      <td>0.0</td>\n",
       "      <td>8.0</td>\n",
       "      <td>4.0</td>\n",
       "    </tr>\n",
       "    <tr>\n",
       "      <th>Austria</th>\n",
       "      <td>0.0</td>\n",
       "      <td>3.0</td>\n",
       "      <td>NaN</td>\n",
       "      <td>0.0</td>\n",
       "      <td>0.0</td>\n",
       "      <td>5.0</td>\n",
       "      <td>0.0</td>\n",
       "      <td>0.0</td>\n",
       "      <td>0.0</td>\n",
       "      <td>1.0</td>\n",
       "      <td>...</td>\n",
       "      <td>0.0</td>\n",
       "      <td>0.0</td>\n",
       "      <td>12.0</td>\n",
       "      <td>8.0</td>\n",
       "      <td>4.0</td>\n",
       "      <td>0.0</td>\n",
       "      <td>7.0</td>\n",
       "      <td>6.0</td>\n",
       "      <td>10.0</td>\n",
       "      <td>0.0</td>\n",
       "    </tr>\n",
       "    <tr>\n",
       "      <th>Azerbaijan</th>\n",
       "      <td>0.0</td>\n",
       "      <td>2.0</td>\n",
       "      <td>0.0</td>\n",
       "      <td>NaN</td>\n",
       "      <td>0.0</td>\n",
       "      <td>8.0</td>\n",
       "      <td>0.0</td>\n",
       "      <td>0.0</td>\n",
       "      <td>0.0</td>\n",
       "      <td>4.0</td>\n",
       "      <td>...</td>\n",
       "      <td>0.0</td>\n",
       "      <td>5.0</td>\n",
       "      <td>3.0</td>\n",
       "      <td>12.0</td>\n",
       "      <td>0.0</td>\n",
       "      <td>0.0</td>\n",
       "      <td>0.0</td>\n",
       "      <td>0.0</td>\n",
       "      <td>10.0</td>\n",
       "      <td>0.0</td>\n",
       "    </tr>\n",
       "  </tbody>\n",
       "</table>\n",
       "<p>5 rows × 26 columns</p>\n",
       "</div>"
      ],
      "text/plain": [
       "              Armenia  Australia  Austria  Azerbaijan  Belgium  Bulgaria  \\\n",
       "From country                                                               \n",
       "Albania           2.0       12.0      0.0         0.0      0.0       8.0   \n",
       "Armenia           NaN        0.0      4.0         0.0      0.0       0.0   \n",
       "Australia         0.0        NaN      3.0         0.0     12.0      10.0   \n",
       "Austria           0.0        3.0      NaN         0.0      0.0       5.0   \n",
       "Azerbaijan        0.0        2.0      0.0         NaN      0.0       8.0   \n",
       "\n",
       "              Croatia  Cyprus  Czech Republic  France       ...        \\\n",
       "From country                                                ...         \n",
       "Albania           0.0     0.0             0.0     0.0       ...         \n",
       "Armenia           0.0     6.0             0.0     7.0       ...         \n",
       "Australia         0.0     0.0             0.0     7.0       ...         \n",
       "Austria           0.0     0.0             0.0     1.0       ...         \n",
       "Azerbaijan        0.0     0.0             0.0     4.0       ...         \n",
       "\n",
       "              Lithuania  Malta  Poland  Russia  Serbia  Spain  Sweden  \\\n",
       "From country                                                            \n",
       "Albania             4.0    0.0     5.0     7.0     0.0    0.0     3.0   \n",
       "Armenia             0.0    5.0     1.0    12.0     0.0    0.0     2.0   \n",
       "Australia           1.0    6.0     0.0     5.0     0.0    2.0     0.0   \n",
       "Austria             0.0    0.0    12.0     8.0     4.0    0.0     7.0   \n",
       "Azerbaijan          0.0    5.0     3.0    12.0     0.0    0.0     0.0   \n",
       "\n",
       "              The Netherlands  Ukraine  United Kingdom  \n",
       "From country                                            \n",
       "Albania                   0.0      6.0             0.0  \n",
       "Armenia                   0.0     10.0             0.0  \n",
       "Australia                 0.0      8.0             4.0  \n",
       "Austria                   6.0     10.0             0.0  \n",
       "Azerbaijan                0.0     10.0             0.0  \n",
       "\n",
       "[5 rows x 26 columns]"
      ]
     },
     "execution_count": 47,
     "metadata": {},
     "output_type": "execute_result"
    }
   ],
   "source": [
    "import pandas as pd\n",
    "\n",
    "scores_df = pd.read_csv('./datasets/eurovision-2016-televoting.csv', index_col=0)\n",
    "country_names = list(scores_df.index)\n",
    "scores_df.head()"
   ]
  },
  {
   "cell_type": "code",
   "execution_count": 48,
   "metadata": {
    "collapsed": true
   },
   "outputs": [],
   "source": [
    "#缺失值填充，没有的就先按满分算吧\n",
    "scores_df = scores_df.fillna(12)"
   ]
  },
  {
   "cell_type": "code",
   "execution_count": 49,
   "metadata": {},
   "outputs": [],
   "source": [
    "from sklearn.preprocessing import normalize\n",
    "samples = normalize(scores_df.values)"
   ]
  },
  {
   "cell_type": "code",
   "execution_count": 50,
   "metadata": {},
   "outputs": [
    {
     "data": {
      "text/plain": [
       "array([[ 0.09449112,  0.56694671,  0.        , ...,  0.        ,\n",
       "         0.28347335,  0.        ],\n",
       "       [ 0.49319696,  0.        ,  0.16439899, ...,  0.        ,\n",
       "         0.41099747,  0.        ],\n",
       "       [ 0.        ,  0.49319696,  0.12329924, ...,  0.        ,\n",
       "         0.32879797,  0.16439899],\n",
       "       ..., \n",
       "       [ 0.32879797,  0.20549873,  0.24659848, ...,  0.49319696,\n",
       "         0.28769823,  0.        ],\n",
       "       [ 0.28769823,  0.16439899,  0.        , ...,  0.        ,\n",
       "         0.49319696,  0.        ],\n",
       "       [ 0.        ,  0.24659848,  0.        , ...,  0.        ,\n",
       "         0.20549873,  0.49319696]])"
      ]
     },
     "execution_count": 50,
     "metadata": {},
     "output_type": "execute_result"
    }
   ],
   "source": [
    "samples"
   ]
  },
  {
   "cell_type": "code",
   "execution_count": 27,
   "metadata": {},
   "outputs": [
    {
     "data": {
      "image/png": "[encoded data removed]",
      "text/plain": [
       "<matplotlib.figure.Figure at 0x218ad6cc160>"
      ]
     },
     "metadata": {},
     "output_type": "display_data"
    }
   ],
   "source": [
    "from scipy.cluster.hierarchy import linkage, dendrogram\n",
    "import matplotlib.pyplot as plt\n",
    "\n",
    "mergings = linkage(samples, method='single')\n",
    "fig = plt.figure(figsize=(10,6))\n",
    "dendrogram(mergings,\n",
    "           labels=country_names,\n",
    "           leaf_rotation=90,\n",
    "           leaf_font_size=6,\n",
    ")\n",
    "plt.show()"
   ]
  },
  {
   "cell_type": "code",
   "execution_count": 29,
   "metadata": {},
   "outputs": [
    {
     "data": {
      "image/png": "[encoded data removed]",
      "text/plain": [
       "<matplotlib.figure.Figure at 0x218aef9bc50>"
      ]
     },
     "metadata": {},
     "output_type": "display_data"
    }
   ],
   "source": [
    "mergings = linkage(samples, method='complete')\n",
    "fig = plt.figure(figsize=(10,6))\n",
    "dendrogram(mergings,\n",
    "           labels=country_names,\n",
    "           leaf_rotation=90,\n",
    "           leaf_font_size=6,\n",
    ")\n",
    "plt.show()"
   ]
  },
  {
   "cell_type": "code",
   "execution_count": null,
   "metadata": {
    "collapsed": true
   },
   "outputs": [],
   "source": []
  }
 ],
 "metadata": {
  "kernelspec": {
   "display_name": "Python 3",
   "language": "python",
   "name": "python3"
  },
  "language_info": {
   "codemirror_mode": {
    "name": "ipython",
    "version": 3
   },
   "file_extension": ".py",
   "mimetype": "text/x-python",
   "name": "python",
   "nbconvert_exporter": "python",
   "pygments_lexer": "ipython3",
   "version": "3.6.3"
  }
 },
 "nbformat": 4,
 "nbformat_minor": 2
}
