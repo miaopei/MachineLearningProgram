{
 "cells": [
  {
   "cell_type": "markdown",
   "metadata": {},
   "source": [
    "## 异常值判断"
   ]
  },
  {
   "cell_type": "code",
   "execution_count": 1,
   "metadata": {
    "ExecuteTime": {
     "end_time": "2017-05-10T21:17:05.070380Z",
     "start_time": "2017-05-10T21:17:04.293943Z"
    },
    "collapsed": true
   },
   "outputs": [],
   "source": [
    "%matplotlib inline\n",
    "import matplotlib\n",
    "import matplotlib.pyplot as plt\n",
    "import numpy as np\n",
    "import pandas as pd"
   ]
  },
  {
   "cell_type": "code",
   "execution_count": 2,
   "metadata": {
    "ExecuteTime": {
     "end_time": "2017-05-10T21:17:05.074920Z",
     "start_time": "2017-05-10T21:17:05.071410Z"
    },
    "collapsed": true
   },
   "outputs": [],
   "source": [
    "#定义文件名\n",
    "ACTION_201602_FILE = \"data/JData_Action_201602.csv\"\n",
    "ACTION_201603_FILE = \"data/JData_Action_201603.csv\"\n",
    "ACTION_201604_FILE = \"data/JData_Action_201604.csv\"\n",
    "COMMENT_FILE = \"data/JData_Comment.csv\"\n",
    "PRODUCT_FILE = \"data/JData_Product.csv\"\n",
    "USER_FILE = \"data/JData_User.csv\"\n",
    "USER_TABLE_FILE = \"data/User_table.csv\"\n",
    "ITEM_TABLE_FILE = \"data/Item_table.csv\""
   ]
  },
  {
   "cell_type": "markdown",
   "metadata": {},
   "source": [
    "### 数据背景信息\n",
    "根据官方给出的数据介绍里，可以知道数据可能存在哪些异常信息\n",
    "* 用户文件\n",
    "    * 用户的age存在未知的情况，标记为-1\n",
    "    * 用户的sex存在保密情况，标记为2\n",
    "    * 后续分析发现，用户注册日期存在系统异常导致在预测日之后的情况，不过目前针对该特征没有想法，所以不作处理\n",
    "* 商品文件\n",
    "    * 属性a1,a2,a3均存在未知情形，标记为-1\n",
    "* 行为文件\n",
    "    * model_id为点击模块编号，针对用户的行为类型为6时，可能存在空值"
   ]
  },
  {
   "cell_type": "markdown",
   "metadata": {},
   "source": [
    "### 空值判断"
   ]
  },
  {
   "cell_type": "code",
   "execution_count": 3,
   "metadata": {
    "ExecuteTime": {
     "end_time": "2017-05-10T21:17:35.805241Z",
     "start_time": "2017-05-10T21:17:05.075917Z"
    },
    "collapsed": false
   },
   "outputs": [
    {
     "name": "stdout",
     "output_type": "stream",
     "text": [
      "Is there any missing value in User? True\n",
      "Is there any missing value in Action 2? True\n",
      "Is there any missing value in Action 3? True\n",
      "Is there any missing value in Action 4? True\n",
      "Is there any missing value in Comment? False\n",
      "Is there any missing value in Product? False\n"
     ]
    }
   ],
   "source": [
    "def check_empty(file_path, file_name):\n",
    "    df_file = pd.read_csv(file_path)\n",
    "    print 'Is there any missing value in {0}? {1}'.format(file_name, df_file.isnull().any().any()) \n",
    "\n",
    "check_empty(USER_FILE, 'User')\n",
    "check_empty(ACTION_201602_FILE, 'Action 2')\n",
    "check_empty(ACTION_201603_FILE, 'Action 3')\n",
    "check_empty(ACTION_201604_FILE, 'Action 4')\n",
    "check_empty(COMMENT_FILE, 'Comment')\n",
    "check_empty(PRODUCT_FILE, 'Product')"
   ]
  },
  {
   "cell_type": "markdown",
   "metadata": {},
   "source": [
    "由上述简单的分析可知，用户表及行为表中均存在空值记录，而评论表和商品表则不存在，但是结合之前的数据背景分析商品表中存在属性未知的情况，后续也需要针对分析，进一步的我们看看用户表和行为表中的空值情况"
   ]
  },
  {
   "cell_type": "code",
   "execution_count": 4,
   "metadata": {
    "ExecuteTime": {
     "end_time": "2017-05-10T21:18:04.373068Z",
     "start_time": "2017-05-10T21:17:35.806261Z"
    },
    "collapsed": false
   },
   "outputs": [
    {
     "name": "stdout",
     "output_type": "stream",
     "text": [
      "empty info in detail of User:\n",
      "user_id        False\n",
      "age             True\n",
      "sex             True\n",
      "user_lv_cd     False\n",
      "user_reg_tm     True\n",
      "dtype: bool\n",
      "empty info in detail of Action 2:\n",
      "user_id     False\n",
      "sku_id      False\n",
      "time        False\n",
      "model_id     True\n",
      "type        False\n",
      "cate        False\n",
      "brand       False\n",
      "dtype: bool\n",
      "empty info in detail of Action 3:\n",
      "user_id     False\n",
      "sku_id      False\n",
      "time        False\n",
      "model_id     True\n",
      "type        False\n",
      "cate        False\n",
      "brand       False\n",
      "dtype: bool\n",
      "empty info in detail of Action 4:\n",
      "user_id     False\n",
      "sku_id      False\n",
      "time        False\n",
      "model_id     True\n",
      "type        False\n",
      "cate        False\n",
      "brand       False\n",
      "dtype: bool\n"
     ]
    }
   ],
   "source": [
    "def empty_detail(f_path, f_name):\n",
    "    df_file = pd.read_csv(f_path)\n",
    "    print 'empty info in detail of {0}:'.format(f_name)\n",
    "    print pd.isnull(df_file).any()\n",
    "\n",
    "empty_detail(USER_FILE, 'User')\n",
    "empty_detail(ACTION_201602_FILE, 'Action 2')\n",
    "empty_detail(ACTION_201603_FILE, 'Action 3')\n",
    "empty_detail(ACTION_201604_FILE, 'Action 4')"
   ]
  },
  {
   "cell_type": "markdown",
   "metadata": {},
   "source": [
    "上面简单的输出了下存在空值的文件中具体哪些列存在空值(True)，结果如下\n",
    "* User\n",
    "    * age\n",
    "    * sex\n",
    "    * user_reg_tm\n",
    "* Action\n",
    "    * model_id\n",
    "    \n",
    "接下来具体看看各文件中的空值情况："
   ]
  },
  {
   "cell_type": "code",
   "execution_count": 5,
   "metadata": {
    "ExecuteTime": {
     "end_time": "2017-05-10T21:18:27.415981Z",
     "start_time": "2017-05-10T21:18:04.373995Z"
    },
    "collapsed": false
   },
   "outputs": [
    {
     "name": "stdout",
     "output_type": "stream",
     "text": [
      "No. of missing age in User is 3\n",
      "percent:  2.84843478509e-05\n",
      "No. of missing sex in User is 3\n",
      "percent:  2.84843478509e-05\n",
      "No. of missing user_reg_tm in User is 3\n",
      "percent:  2.84843478509e-05\n",
      "No. of missing model_id in Action 2 is 4959617\n",
      "percent:  0.431818363867\n",
      "No. of missing model_id in Action 3 is 10553261\n",
      "percent:  0.4072043169\n",
      "No. of missing model_id in Action 4 is 5143018\n",
      "percent:  0.38962452388\n"
     ]
    }
   ],
   "source": [
    "def empty_records(f_path, f_name, col_name):\n",
    "    df_file = pd.read_csv(f_path)\n",
    "    missing = df_file[col_name].isnull().sum().sum()\n",
    "    print 'No. of missing {0} in {1} is {2}'.format(col_name, f_name, missing) \n",
    "    print 'percent: ', missing * 1.0 / df_file.shape[0]\n",
    "\n",
    "empty_records(USER_FILE, 'User', 'age')\n",
    "empty_records(USER_FILE, 'User', 'sex')\n",
    "empty_records(USER_FILE, 'User', 'user_reg_tm')\n",
    "empty_records(ACTION_201602_FILE, 'Action 2', 'model_id')\n",
    "empty_records(ACTION_201603_FILE, 'Action 3', 'model_id')\n",
    "empty_records(ACTION_201604_FILE, 'Action 4', 'model_id')"
   ]
  },
  {
   "cell_type": "markdown",
   "metadata": {},
   "source": [
    "对比下数据集的记录数：\n",
    "\n",
    "文件|文件说明|记录数\n",
    "---|---|---\n",
    "1. JData_User.csv |             用户数据集          | 105,321个用户\n",
    "2. JData_Comment.csv |          商品评论            | 558,552条记录\n",
    "3. JData_Product.csv |          预测商品集合          | 24,187条记录\n",
    "4. JData_Action_201602.csv |      2月份行为交互记录    | 11,485,424条记录\n",
    "5. JData_Action_201603.csv |      3月份行为交互记录    | 25,916,378条记录\n",
    "6. JData_Action_201604.csv |      4月份行为交互记录    | 13,199,934条记录\n",
    "\n",
    "两相对比结合前面输出的情况，针对不同数据进行不同处理\n",
    "* 用户文件 \n",
    "    * age,sex:先填充为对应的未知状态（-1|2），后续作为未知状态的值进一步分析和处理\n",
    "    * user_reg_tm:暂时不做处理\n",
    "* 行为文件\n",
    "    * model_id涉及数目接近一半，而且当前针对该特征没有很好的处理方法，待定"
   ]
  },
  {
   "cell_type": "code",
   "execution_count": 6,
   "metadata": {
    "ExecuteTime": {
     "end_time": "2017-05-10T21:18:27.455370Z",
     "start_time": "2017-05-10T21:18:27.416911Z"
    },
    "collapsed": true
   },
   "outputs": [],
   "source": [
    "user = pd.read_csv(USER_FILE)\n",
    "user['age'].fillna('-1', inplace=True)\n",
    "user['sex'].fillna(2, inplace=True)"
   ]
  },
  {
   "cell_type": "code",
   "execution_count": 7,
   "metadata": {
    "ExecuteTime": {
     "end_time": "2017-05-10T21:18:27.478275Z",
     "start_time": "2017-05-10T21:18:27.456423Z"
    },
    "collapsed": false
   },
   "outputs": [
    {
     "name": "stdout",
     "output_type": "stream",
     "text": [
      "user_id        False\n",
      "age            False\n",
      "sex            False\n",
      "user_lv_cd     False\n",
      "user_reg_tm     True\n",
      "dtype: bool\n"
     ]
    }
   ],
   "source": [
    "print pd.isnull(user).any()"
   ]
  },
  {
   "cell_type": "code",
   "execution_count": 10,
   "metadata": {
    "ExecuteTime": {
     "end_time": "2017-05-10T21:26:59.218638Z",
     "start_time": "2017-05-10T21:26:59.207494Z"
    },
    "collapsed": false
   },
   "outputs": [
    {
     "name": "stdout",
     "output_type": "stream",
     "text": [
      "       user_id age  sex  user_lv_cd user_reg_tm\n",
      "34072   234073  -1  2.0           1         NaN\n",
      "38905   238906  -1  2.0           1         NaN\n",
      "67704   267705  -1  2.0           1         NaN\n"
     ]
    }
   ],
   "source": [
    "nan_reg_tm = user[user['user_reg_tm'].isnull()]\n",
    "print nan_reg_tm"
   ]
  },
  {
   "cell_type": "code",
   "execution_count": 8,
   "metadata": {
    "ExecuteTime": {
     "end_time": "2017-05-07T16:36:49.338047Z",
     "start_time": "2017-05-07T16:36:49.268713Z"
    },
    "collapsed": false
   },
   "outputs": [
    {
     "name": "stdout",
     "output_type": "stream",
     "text": [
      "7\n",
      "3\n",
      "5\n"
     ]
    }
   ],
   "source": [
    "print len(user['age'].unique())\n",
    "print len(user['sex'].unique())\n",
    "print len(user['user_lv_cd'].unique())"
   ]
  },
  {
   "cell_type": "code",
   "execution_count": 9,
   "metadata": {
    "ExecuteTime": {
     "end_time": "2017-05-07T16:36:49.376052Z",
     "start_time": "2017-05-07T16:36:49.340659Z"
    },
    "collapsed": true
   },
   "outputs": [],
   "source": [
    "prod = pd.read_csv(PRODUCT_FILE)"
   ]
  },
  {
   "cell_type": "code",
   "execution_count": 10,
   "metadata": {
    "ExecuteTime": {
     "end_time": "2017-05-07T16:36:49.455004Z",
     "start_time": "2017-05-07T16:36:49.377236Z"
    },
    "collapsed": false
   },
   "outputs": [
    {
     "name": "stdout",
     "output_type": "stream",
     "text": [
      "4\n",
      "3\n",
      "3\n",
      "102\n"
     ]
    }
   ],
   "source": [
    "print len(prod['a1'].unique())\n",
    "print len(prod['a2'].unique())\n",
    "print len(prod['a3'].unique())\n",
    "# print len(prod['a2'].unique())\n",
    "print len(prod['brand'].unique())"
   ]
  },
  {
   "cell_type": "markdown",
   "metadata": {},
   "source": [
    "### 未知记录\n",
    "接下来看看各个文件中的未知记录占的比重"
   ]
  },
  {
   "cell_type": "code",
   "execution_count": 11,
   "metadata": {
    "ExecuteTime": {
     "end_time": "2017-05-07T16:36:49.573716Z",
     "start_time": "2017-05-07T16:36:49.456369Z"
    },
    "collapsed": false
   },
   "outputs": [
    {
     "name": "stdout",
     "output_type": "stream",
     "text": [
      "No. of unknown age user: 14415 and the percent: 0.136867291423 \n",
      "No. of unknown sex user: 54738 and the percent: 0.519725410887 \n"
     ]
    }
   ],
   "source": [
    "print 'No. of unknown age user: {0} and the percent: {1} '.format(user[user['age']=='-1'].shape[0],\n",
    "                                                                  user[user['age']=='-1'].shape[0]*1.0/user.shape[0])\n",
    "print 'No. of unknown sex user: {0} and the percent: {1} '.format(user[user['sex']==2].shape[0],\n",
    "                                                                  user[user['sex']==2].shape[0]*1.0/user.shape[0])"
   ]
  },
  {
   "cell_type": "code",
   "execution_count": 12,
   "metadata": {
    "ExecuteTime": {
     "end_time": "2017-05-07T16:36:49.639049Z",
     "start_time": "2017-05-07T16:36:49.575491Z"
    },
    "collapsed": false
   },
   "outputs": [
    {
     "name": "stdout",
     "output_type": "stream",
     "text": [
      "No. of unknown a1 in Product is 1701\n",
      "percent:  0.0703270351842\n",
      "No. of unknown a2 in Product is 4050\n",
      "percent:  0.167445321867\n",
      "No. of unknown a3 in Product is 3815\n",
      "percent:  0.157729358746\n"
     ]
    }
   ],
   "source": [
    "def unknown_records(f_path, f_name, col_name):\n",
    "    df_file = pd.read_csv(f_path)\n",
    "    missing = df_file[df_file[col_name]==-1].shape[0]\n",
    "    print 'No. of unknown {0} in {1} is {2}'.format(col_name, f_name, missing) \n",
    "    print 'percent: ', missing * 1.0 / df_file.shape[0]\n",
    "    \n",
    "unknown_records(PRODUCT_FILE, 'Product', 'a1')\n",
    "unknown_records(PRODUCT_FILE, 'Product', 'a2')\n",
    "unknown_records(PRODUCT_FILE, 'Product', 'a3')"
   ]
  },
  {
   "cell_type": "markdown",
   "metadata": {},
   "source": [
    "小结一下\n",
    "* 空值部分对3条用户的sex,age填充为未知值,注册时间不作处理，此外行为数据部分model_id待定: 43.2%,40.7%,39.0%\n",
    "* 未知值部分，用户age存在部分未知值: 13.7%，sex存在大量保密情况(超过一半) 52.0%\n",
    "* 商品中各个属性存在部分未知的情况，a1<a3<a2，分别为： 7.0%,16.7%,15.8%"
   ]
  },
  {
   "cell_type": "markdown",
   "metadata": {},
   "source": [
    "### 异常值检测\n",
    "对于任何的分析，在数据预处理的过程中检测数据中的异常值都是非常重要的一步。异常值的出现会使得把这些值考虑进去后结果出现倾斜。这里有很多关于怎样定义什么是数据集中的异常值的经验法则。这里我们将使用[Tukey的定义异常值的方法](http://datapigtechnologies.com/blog/index.php/highlighting-outliers-in-your-data-with-the-tukey-method/)：一个异常阶（outlier step）被定义成1.5倍的四分位距（interquartile range，IQR）。一个数据点如果某个特征包含在该特征的IQR之外的特征，那么该数据点被认定为异常点。"
   ]
  },
  {
   "cell_type": "code",
   "execution_count": null,
   "metadata": {
    "collapsed": true
   },
   "outputs": [],
   "source": [
    "\n",
    "# 对于每一个特征，找到值异常高或者是异常低的数据点\n",
    "for feature in log_data.keys():\n",
    "    \n",
    "    # TODO：计算给定特征的Q1（数据的25th分位点）\n",
    "    Q1 = np.percentile(log_data[feature], 25)\n",
    "    \n",
    "    # TODO：计算给定特征的Q3（数据的75th分位点）\n",
    "    Q3 = np.percentile(log_data[feature], 75)\n",
    "    \n",
    "    # TODO：使用四分位范围计算异常阶（1.5倍的四分位距）\n",
    "    step = 1.5 * (Q3 - Q1)\n",
    "    \n",
    "    # 显示异常点\n",
    "    print \"Data points considered outliers for the feature '{}':\".format(feature)\n",
    "    display(log_data[~((log_data[feature] >= Q1 - step) & (log_data[feature] <= Q3 + step))])"
   ]
  }
 ],
 "metadata": {
  "kernelspec": {
   "display_name": "Python 2",
   "language": "python",
   "name": "python2"
  },
  "language_info": {
   "codemirror_mode": {
    "name": "ipython",
    "version": 2
   },
   "file_extension": ".py",
   "mimetype": "text/x-python",
   "name": "python",
   "nbconvert_exporter": "python",
   "pygments_lexer": "ipython2",
   "version": "2.7.13"
  }
 },
 "nbformat": 4,
 "nbformat_minor": 2
}
