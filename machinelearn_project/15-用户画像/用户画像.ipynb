{
 "cells": [
  {
   "cell_type": "code",
   "execution_count": 14,
   "metadata": {
    "collapsed": false
   },
   "outputs": [],
   "source": [
    "import pandas as pd\n",
    "import numpy as np\n",
    "from gensim.models import word2vec"
   ]
  },
  {
   "cell_type": "code",
   "execution_count": 6,
   "metadata": {
    "collapsed": false
   },
   "outputs": [],
   "source": [
    "file_name = 'train_querylist_writefile-1w.csv'\n",
    "cur_model = gensim.models.Word2Vec.load('20w_size_win100_300.model')\n",
    "with open(file_name, 'r') as f:\n",
    "    cur_index = 0\n",
    "    lines = f.readlines()\n",
    "    doc_cev = np.zeros((len(lines),300))\n",
    "    for line in lines:\n",
    "        word_vec = np.zeros((1,300))\n",
    "        words = line.strip().split(' ')\n",
    "        wrod_num = 0\n",
    "        for word in words:\n",
    "            if word in cur_model:\n",
    "                wrod_num += 1\n",
    "                word_vec += np.array([cur_model[word]])\n",
    "        doc_cev[cur_index] = word_vec / float(wrod_num)\n",
    "        cur_index += 1"
   ]
  },
  {
   "cell_type": "code",
   "execution_count": 7,
   "metadata": {
    "collapsed": false
   },
   "outputs": [
    {
     "data": {
      "text/plain": [
       "(9988, 300)"
      ]
     },
     "execution_count": 7,
     "metadata": {},
     "output_type": "execute_result"
    }
   ],
   "source": [
    "doc_cev.shape"
   ]
  },
  {
   "cell_type": "code",
   "execution_count": 9,
   "metadata": {
    "collapsed": false
   },
   "outputs": [
    {
     "data": {
      "text/plain": [
       "array([ 0.33182368,  0.55252966,  0.63669818,  0.00209563,  0.05348139,\n",
       "       -0.19718801,  0.0736446 ,  0.32822171,  0.18450843,  0.53490043,\n",
       "        0.16007615,  0.01593239, -0.75761003, -0.20746806, -0.22237793,\n",
       "       -0.34965017, -0.06830732,  0.03833664, -0.41728927, -0.49847602,\n",
       "       -0.15014577,  0.36489224, -0.01786399,  0.43068594, -0.03712102,\n",
       "       -0.15087827, -0.37784922,  0.36978041, -0.50218117,  0.02682012,\n",
       "       -0.52849729, -0.28924009,  0.61358333, -0.34677243, -0.09515623,\n",
       "       -0.15804055,  0.30000075, -0.19565529,  0.37209247, -0.63398634,\n",
       "       -0.2731103 , -0.26805587,  0.11133715,  0.44562418, -0.00714147,\n",
       "       -0.57793753,  0.06985141,  0.24699661, -0.16827831,  0.0693375 ,\n",
       "       -0.26619998,  0.25219051,  0.20520646, -0.54850182,  0.49025904,\n",
       "        0.26579061, -0.13549178,  0.19110944, -0.08072405,  0.15693008,\n",
       "        0.32124069,  0.1143565 , -0.27793777, -0.21445868,  0.13913571,\n",
       "       -0.37103528, -0.56686346, -0.1686514 , -0.14588745,  0.46489141,\n",
       "       -0.05348393, -0.39270203, -0.25076774, -0.23778724,  0.07544403,\n",
       "       -0.50193936, -0.58918561, -0.37106401, -0.22888205,  0.19543051,\n",
       "        0.13435451,  0.20850165,  0.57685213,  0.46324869,  0.05403519,\n",
       "       -0.77954328, -0.16153172,  0.41048316, -0.46591351, -0.18200349,\n",
       "        0.67509917,  0.05909903,  0.14659577, -0.22202072, -0.69821685,\n",
       "       -0.61462538, -0.01118196,  0.61272961, -0.15235076,  0.26032444,\n",
       "        0.1175552 ,  0.32030819, -0.42275648,  0.1650992 ,  0.40099823,\n",
       "        0.1737241 ,  0.03918045,  0.12848079,  0.50896752, -0.17437159,\n",
       "        0.59802324, -0.19673867,  0.27646246,  0.06625795,  0.25715591,\n",
       "       -0.29568531,  0.0563262 ,  0.1350048 ,  0.23280326,  0.19045037,\n",
       "       -0.38035261,  0.05304222,  0.27522449, -0.12088178, -0.34537354,\n",
       "        0.19603959,  0.09897907, -0.55989173, -0.21414708,  0.23768777,\n",
       "        0.08089199,  0.45118171,  0.40441429, -0.37938577,  0.11321586,\n",
       "       -0.78164687,  0.09522659, -0.49335691,  0.65763007, -0.05582092,\n",
       "       -0.43615372, -0.13909474,  0.25912549,  0.38708076,  0.05181426,\n",
       "        0.50749369, -0.44233476,  0.03923613, -0.33863993, -0.23971594,\n",
       "       -0.05281234,  0.04994444,  0.32139697, -0.05746405,  0.15891093,\n",
       "        0.17589508, -0.6689432 , -0.77728936, -0.22874011, -0.17997937,\n",
       "       -0.03920563, -0.33361198, -0.0913855 , -0.54737029,  0.1766914 ,\n",
       "       -0.09496386,  0.02547032,  0.14155027,  0.2726024 ,  0.22773679,\n",
       "        0.70578234, -0.14757835, -0.02492926, -0.16810223, -0.19386815,\n",
       "       -0.22731419, -0.58005768, -0.02521431, -0.05701891,  0.39817653,\n",
       "       -0.04636694, -0.12507841, -0.47318447,  0.70156724,  0.09911417,\n",
       "        0.33301143, -0.5366442 ,  0.25444337,  0.55563975, -0.27822748,\n",
       "       -0.08091258, -0.02902109,  0.45780695, -0.05332535, -0.13549121,\n",
       "        0.04146088,  0.21186687, -0.60914561, -0.13756421,  0.15332513,\n",
       "       -0.03401803,  0.24444518, -0.34899555,  0.01449729, -0.16914928,\n",
       "       -0.10449218, -0.03948724,  0.05543015,  0.16946971, -0.03953215,\n",
       "        0.36282383, -0.22299126, -0.37767637,  0.40729367,  0.09319797,\n",
       "       -0.05661254,  0.31285458, -0.59728654,  0.04649072, -0.2139158 ,\n",
       "        0.02466388, -0.25535453,  0.05328107,  0.44968932, -0.36304227,\n",
       "        0.1243279 ,  0.25542351, -0.25990573,  0.16575788,  0.49486594,\n",
       "        0.02013198, -0.44703869, -0.03417336, -0.18894175,  0.44422598,\n",
       "        0.26544032,  0.24729575,  0.12377638,  0.17241733,  0.36392018,\n",
       "       -0.04283091,  0.10438793, -0.08287631,  0.07021099, -0.41427204,\n",
       "        0.08878438,  0.13423769, -0.21752153,  0.29810518, -0.17300779,\n",
       "       -0.01755171, -0.23126622, -0.37296119, -0.24134189, -0.12355118,\n",
       "       -0.01502559, -0.107764  ,  0.26370159,  0.69973508, -0.08179363,\n",
       "        0.30354089,  0.47628052, -0.27104121, -0.14209931,  0.24028155,\n",
       "        0.21986929,  0.44981002,  0.03972871,  0.18570216, -0.11363009,\n",
       "       -0.21989397,  0.37386405, -0.17552514, -0.36266325,  0.33665742,\n",
       "        0.49293262,  0.73631816, -0.23181501, -0.13128777, -0.07689603,\n",
       "        0.01339131, -0.3737787 , -0.69349323, -0.22885342,  0.01278608,\n",
       "        0.2057562 , -0.00495967,  0.22957659,  0.5245037 , -0.20172307,\n",
       "        0.03941859, -0.51391135,  0.03211874, -0.03925369,  0.14479598,\n",
       "        0.43408511, -0.07843929, -0.33596287,  0.0743809 ,  0.09895382])"
      ]
     },
     "execution_count": 9,
     "metadata": {},
     "output_type": "execute_result"
    }
   ],
   "source": [
    "doc_cev[5]"
   ]
  },
  {
   "cell_type": "code",
   "execution_count": 10,
   "metadata": {
    "collapsed": false
   },
   "outputs": [
    {
     "data": {
      "text/plain": [
       "(9988,)"
      ]
     },
     "execution_count": 10,
     "metadata": {},
     "output_type": "execute_result"
    }
   ],
   "source": [
    "genderlabel = np.loadtxt(open('train_gender.csv', 'r')).astype(int)\n",
    "genderlabel.shape"
   ]
  },
  {
   "cell_type": "code",
   "execution_count": 11,
   "metadata": {
    "collapsed": false
   },
   "outputs": [
    {
     "name": "stdout",
     "output_type": "stream",
     "text": [
      "(9756, 300) (9756,)\n"
     ]
    }
   ],
   "source": [
    "def removezero(x, y):\n",
    "        nozero = np.nonzero(y)\n",
    "        y = y[nozero]\n",
    "        x = np.array(x)\n",
    "        x = x[nozero]\n",
    "        return x, y\n",
    "gender_train, genderlabel = removezero(doc_cev, genderlabel)\n",
    "print (gender_train.shape,genderlabel.shape)"
   ]
  },
  {
   "cell_type": "code",
   "execution_count": 12,
   "metadata": {
    "collapsed": true
   },
   "outputs": [],
   "source": [
    "import matplotlib.pyplot as plt\n",
    "import itertools\n",
    "def plot_confusion_matrix(cm, classes,\n",
    "                          title='Confusion matrix',\n",
    "                          cmap=plt.cm.Blues):\n",
    "    \"\"\"\n",
    "    This function prints and plots the confusion matrix.\n",
    "    \"\"\"\n",
    "    plt.imshow(cm, interpolation='nearest', cmap=cmap)\n",
    "    plt.title(title)\n",
    "    plt.colorbar()\n",
    "    tick_marks = np.arange(len(classes))\n",
    "    plt.xticks(tick_marks, classes, rotation=0)\n",
    "    plt.yticks(tick_marks, classes)\n",
    "\n",
    "    thresh = cm.max() / 2.\n",
    "    for i, j in itertools.product(range(cm.shape[0]), range(cm.shape[1])):\n",
    "        plt.text(j, i, cm[i, j],\n",
    "                 horizontalalignment=\"center\",\n",
    "                 color=\"white\" if cm[i, j] > thresh else \"black\")\n",
    "\n",
    "    plt.tight_layout()\n",
    "    plt.ylabel('True label')\n",
    "    plt.xlabel('Predicted label')"
   ]
  },
  {
   "cell_type": "code",
   "execution_count": 13,
   "metadata": {
    "collapsed": false
   },
   "outputs": [
    {
     "name": "stdout",
     "output_type": "stream",
     "text": [
      "0.79868798688\n",
      "Recall metric in the testing dataset:  0.805637982196\n",
      "accuracy metric in the testing dataset:  0.79868798688\n"
     ]
    },
    {
     "data": {
      "image/png": "[encoded data removed]",
      "text/plain": [
       "<matplotlib.figure.Figure at 0x19ce12eab70>"
      ]
     },
     "metadata": {},
     "output_type": "display_data"
    }
   ],
   "source": [
    "from sklearn.linear_model import LogisticRegression\n",
    "from sklearn.metrics import confusion_matrix\n",
    "\n",
    "LR_model = LogisticRegression(class_weight='balanced', random_state=0,penalty='l1')\n",
    "\n",
    "LR_model.fit(gender_train,genderlabel)\n",
    "y_pred = LR_model.predict(gender_train)\n",
    "print (LR_model.score(gender_train,genderlabel))\n",
    "cnf_matrix = confusion_matrix(genderlabel,y_pred)\n",
    "\n",
    "print(\"Recall metric in the testing dataset: \", cnf_matrix[1,1]/(cnf_matrix[1,0]+cnf_matrix[1,1]))\n",
    "\n",
    "print(\"accuracy metric in the testing dataset: \", (cnf_matrix[1,1]+cnf_matrix[0,0])/(cnf_matrix[0,0]+cnf_matrix[1,1]+cnf_matrix[1,0]+cnf_matrix[0,1]))\n",
    "\n",
    "# Plot non-normalized confusion matrix\n",
    "class_names = [0,1]\n",
    "plt.figure()\n",
    "plot_confusion_matrix(cnf_matrix\n",
    "                      , classes=class_names\n",
    "                      , title='Confusion matrix')\n",
    "plt.show()"
   ]
  },
  {
   "cell_type": "code",
   "execution_count": null,
   "metadata": {
    "collapsed": true
   },
   "outputs": [],
   "source": []
  },
  {
   "cell_type": "code",
   "execution_count": null,
   "metadata": {
    "collapsed": true
   },
   "outputs": [],
   "source": []
  }
 ],
 "metadata": {
  "anaconda-cloud": {},
  "kernelspec": {
   "display_name": "Python 3",
   "language": "python",
   "name": "python3"
  },
  "language_info": {
   "codemirror_mode": {
    "name": "ipython",
    "version": 3
   },
   "file_extension": ".py",
   "mimetype": "text/x-python",
   "name": "python",
   "nbconvert_exporter": "python",
   "pygments_lexer": "ipython3",
   "version": "3.5.2"
  }
 },
 "nbformat": 4,
 "nbformat_minor": 1
}
